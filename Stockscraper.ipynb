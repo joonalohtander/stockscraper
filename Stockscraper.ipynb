{
 "cells": [
  {
   "cell_type": "markdown",
   "id": "ed49b00b-b47d-4917-9de4-26b98e0c9e65",
   "metadata": {
    "tags": []
   },
   "source": [
    "# Web scraper for Yahoo finance\n",
    "\n",
    "This is an R script, which uses RSelenium to scrape historical prices for a given security from Yahoo. It then writes them into a table and exports to an xlsx-file.\n",
    "\n",
    "## Setting macrovariables\n",
    "\n",
    "You can change the values for the variables below to fit your needs."
   ]
  },
  {
   "cell_type": "markdown",
   "id": "756039c0-4733-4c62-8814-1b73ecefe801",
   "metadata": {
    "tags": []
   },
   "source": [
    "This variable is a list of all the tickers for the securities you want to scrape the historical prices for."
   ]
  },
  {
   "cell_type": "code",
   "execution_count": 1,
   "id": "aee43bad-73a5-4459-9009-a3f2272dd657",
   "metadata": {},
   "outputs": [],
   "source": [
    "symbols = c(\"NFLX\", \"SPOT\", \"TLT\")"
   ]
  },
  {
   "cell_type": "markdown",
   "id": "3500e34f-059a-43cc-9945-47220bef4db3",
   "metadata": {},
   "source": [
    "The startDate-variable sets start date for the historical prices.\n",
    "\n",
    "The endDate-variable sets the end date for the historical prices. To use the current day, set it equal to Sys.date()."
   ]
  },
  {
   "cell_type": "code",
   "execution_count": 2,
   "id": "1ce6d835-7990-4af1-88b7-63dec0f71834",
   "metadata": {},
   "outputs": [],
   "source": [
    "startDate = \"2021-09-01\"\n",
    "endDate = Sys.Date()"
   ]
  },
  {
   "cell_type": "markdown",
   "id": "36a74530-9d3d-46f0-947f-f863faa8b970",
   "metadata": {},
   "source": [
    "The path-variable sets the path for the xlsx-file for the table with all the scraped content."
   ]
  },
  {
   "cell_type": "code",
   "execution_count": 3,
   "id": "1e054684-126e-45dc-b1b7-90d5f8cbfa8e",
   "metadata": {},
   "outputs": [],
   "source": [
    "path = \"C:/Users/joona/Desktop/stocks.xlsx\""
   ]
  },
  {
   "cell_type": "markdown",
   "id": "c7264f96-bc61-4c30-8038-849a94194e9b",
   "metadata": {},
   "source": [
    "## Importing libraries and setting up remote driver\n",
    "\n",
    "Before we start scraping, we need to import (and install if not installed) the needed libraries."
   ]
  },
  {
   "cell_type": "code",
   "execution_count": 4,
   "id": "9535d3fc-e9a2-412e-9a64-cdae6c1b50e9",
   "metadata": {},
   "outputs": [
    {
     "name": "stderr",
     "output_type": "stream",
     "text": [
      "Loading required package: xml2\n",
      "Registered S3 method overwritten by 'rvest':\n",
      "  method            from\n",
      "  read_xml.response xml2\n",
      "Registered S3 methods overwritten by 'tibble':\n",
      "  method     from  \n",
      "  format.tbl pillar\n",
      "  print.tbl  pillar\n",
      "\n",
      "Attaching package: 'dplyr'\n",
      "\n",
      "The following objects are masked from 'package:stats':\n",
      "\n",
      "    filter, lag\n",
      "\n",
      "The following objects are masked from 'package:base':\n",
      "\n",
      "    intersect, setdiff, setequal, union\n",
      "\n",
      "Warning message:\n",
      "\"package 'RSelenium' was built under R version 3.6.3\"Registered S3 method overwritten by 'openssl':\n",
      "  method      from\n",
      "  print.bytes Rcpp\n",
      "Warning message:\n",
      "\"package 'XML' was built under R version 3.6.3\"\n",
      "Attaching package: 'XML'\n",
      "\n",
      "The following object is masked from 'package:rvest':\n",
      "\n",
      "    xml\n",
      "\n",
      "-- \u001b[1mAttaching packages\u001b[22m --------------------------------------- tidyverse 1.2.1 --\n",
      "\u001b[32mv\u001b[39m \u001b[34mggplot2\u001b[39m 3.3.5     \u001b[32mv\u001b[39m \u001b[34mreadr  \u001b[39m 1.3.1\n",
      "\u001b[32mv\u001b[39m \u001b[34mtibble \u001b[39m 2.1.1     \u001b[32mv\u001b[39m \u001b[34mpurrr  \u001b[39m 0.3.2\n",
      "\u001b[32mv\u001b[39m \u001b[34mtidyr  \u001b[39m 0.8.3     \u001b[32mv\u001b[39m \u001b[34mstringr\u001b[39m 1.4.0\n",
      "\u001b[32mv\u001b[39m \u001b[34mggplot2\u001b[39m 3.3.5     \u001b[32mv\u001b[39m \u001b[34mforcats\u001b[39m 0.4.0\n",
      "-- \u001b[1mConflicts\u001b[22m ------------------------------------------ tidyverse_conflicts() --\n",
      "\u001b[31mx\u001b[39m \u001b[34mdplyr\u001b[39m::\u001b[32mfilter()\u001b[39m         masks \u001b[34mstats\u001b[39m::filter()\n",
      "\u001b[31mx\u001b[39m \u001b[34mreadr\u001b[39m::\u001b[32mguess_encoding()\u001b[39m masks \u001b[34mrvest\u001b[39m::guess_encoding()\n",
      "\u001b[31mx\u001b[39m \u001b[34mdplyr\u001b[39m::\u001b[32mlag()\u001b[39m            masks \u001b[34mstats\u001b[39m::lag()\n",
      "\u001b[31mx\u001b[39m \u001b[34mpurrr\u001b[39m::\u001b[32mpluck()\u001b[39m          masks \u001b[34mrvest\u001b[39m::pluck()\n",
      "\u001b[31mx\u001b[39m \u001b[34mXML\u001b[39m::\u001b[32mxml()\u001b[39m              masks \u001b[34mrvest\u001b[39m::xml()\n",
      "\n",
      "Attaching package: 'lubridate'\n",
      "\n",
      "The following object is masked from 'package:base':\n",
      "\n",
      "    date\n",
      "\n",
      "\n",
      "Attaching package: 'zoo'\n",
      "\n",
      "The following objects are masked from 'package:base':\n",
      "\n",
      "    as.Date, as.Date.numeric\n",
      "\n",
      "Warning message:\n",
      "\"package 'xlsx' was built under R version 3.6.3\""
     ]
    }
   ],
   "source": [
    "library(rvest)\n",
    "library(dplyr)\n",
    "library(RSelenium)\n",
    "library(XML)\n",
    "library(tidyverse)\n",
    "library(lubridate)\n",
    "library(zoo)\n",
    "library(xlsx)"
   ]
  },
  {
   "cell_type": "markdown",
   "id": "3f7235e3-9b7d-4c25-8a75-2b2dc4cbf844",
   "metadata": {},
   "source": [
    "If you do not have Docker set up already, install it before running the following script:"
   ]
  },
  {
   "cell_type": "code",
   "execution_count": 5,
   "id": "7349172c-7e51-4dc4-8c10-11a3b7e15fe6",
   "metadata": {},
   "outputs": [
    {
     "name": "stderr",
     "output_type": "stream",
     "text": [
      "Warning message in shell(\"docker run -d -p 4445:4444 --shm-size=\\\"2g\\\" selenium/standalone-chrome\"):\n",
      "\"'docker run -d -p 4445:4444 --shm-size=\"2g\" selenium/standalone-chrome' execution failed with error code 125\""
     ]
    }
   ],
   "source": [
    "shell('docker pull selenium/standalone-chrome')\n",
    "shell('docker run -d -p 4445:4444 --shm-size=\"2g\" selenium/standalone-chrome')"
   ]
  },
  {
   "cell_type": "markdown",
   "id": "62754f32-5ba5-4731-adcf-065227b2a1aa",
   "metadata": {},
   "source": [
    "Now let us assign a remote driver into a variable and connect to the remote driver:"
   ]
  },
  {
   "cell_type": "code",
   "execution_count": 6,
   "id": "e831226b-d9df-48ce-89a5-0e11a1f5d353",
   "metadata": {
    "scrolled": true,
    "tags": []
   },
   "outputs": [
    {
     "name": "stdout",
     "output_type": "stream",
     "text": [
      "[1] \"Connecting to remote server\"\n",
      "$acceptInsecureCerts\n",
      "[1] FALSE\n",
      "\n",
      "$browserName\n",
      "[1] \"chrome\"\n",
      "\n",
      "$browserVersion\n",
      "[1] \"95.0.4638.54\"\n",
      "\n",
      "$chrome\n",
      "$chrome$chromedriverVersion\n",
      "[1] \"95.0.4638.17 (a9d0719444d4b035e284ed1fce73bf6ccd789df2-refs/branch-heads/4638@{#178})\"\n",
      "\n",
      "$chrome$userDataDir\n",
      "[1] \"/tmp/.com.google.Chrome.lTvvF8\"\n",
      "\n",
      "\n",
      "$`goog:chromeOptions`\n",
      "$`goog:chromeOptions`$debuggerAddress\n",
      "[1] \"localhost:35089\"\n",
      "\n",
      "\n",
      "$networkConnectionEnabled\n",
      "[1] FALSE\n",
      "\n",
      "$pageLoadStrategy\n",
      "[1] \"normal\"\n",
      "\n",
      "$platformName\n",
      "[1] \"linux\"\n",
      "\n",
      "$proxy\n",
      "named list()\n",
      "\n",
      "$`se:cdp`\n",
      "[1] \"ws://172.17.0.2:4444/session/de94179dba16f3ffe28dd88eddd76c96/se/cdp\"\n",
      "\n",
      "$`se:cdpVersion`\n",
      "[1] \"95.0.4638.54\"\n",
      "\n",
      "$`se:vnc`\n",
      "[1] \"ws://172.17.0.2:4444/session/de94179dba16f3ffe28dd88eddd76c96/se/vnc\"\n",
      "\n",
      "$`se:vncEnabled`\n",
      "[1] TRUE\n",
      "\n",
      "$`se:vncLocalAddress`\n",
      "[1] \"ws://172.17.0.2:7900\"\n",
      "\n",
      "$setWindowRect\n",
      "[1] TRUE\n",
      "\n",
      "$strictFileInteractability\n",
      "[1] FALSE\n",
      "\n",
      "$timeouts\n",
      "$timeouts$implicit\n",
      "[1] 0\n",
      "\n",
      "$timeouts$pageLoad\n",
      "[1] 300000\n",
      "\n",
      "$timeouts$script\n",
      "[1] 30000\n",
      "\n",
      "\n",
      "$unhandledPromptBehavior\n",
      "[1] \"dismiss and notify\"\n",
      "\n",
      "$`webauthn:extension:credBlob`\n",
      "[1] TRUE\n",
      "\n",
      "$`webauthn:extension:largeBlob`\n",
      "[1] TRUE\n",
      "\n",
      "$`webauthn:virtualAuthenticators`\n",
      "[1] TRUE\n",
      "\n",
      "$id\n",
      "[1] \"de94179dba16f3ffe28dd88eddd76c96\"\n",
      "\n"
     ]
    }
   ],
   "source": [
    "remDr <- remoteDriver(remoteServerAddr = \"localhost\",\n",
    "                     port = 4445L,\n",
    "                     browserName = \"chrome\")\n",
    "remDr$open()"
   ]
  },
  {
   "cell_type": "markdown",
   "id": "4275a687-7aa2-42f9-ac28-472ae0c49ce0",
   "metadata": {},
   "source": [
    "## Scraping the data\n",
    "\n",
    "Now we can do the actual scraping with the following code (this might take some time):"
   ]
  },
  {
   "cell_type": "code",
   "execution_count": 7,
   "id": "03c0a53e-1320-4b03-8ecc-bbe43204ed07",
   "metadata": {},
   "outputs": [
    {
     "name": "stdout",
     "output_type": "stream",
     "text": [
      "[1] \"Scraping done!\"\n"
     ]
    }
   ],
   "source": [
    "period1 = as.integer(difftime(time2 = \"1970-01-01\", time1 = startDate, units = \"secs\"))\n",
    "period2 = as.integer(difftime(time2 = \"1970-01-01\", time1 =  endDate, units = \"secs\"))\n",
    "\n",
    "table = list()\n",
    "\n",
    "for (symbol in symbols) {\n",
    "  # creates the URL\n",
    "  link = paste0(\"https://finance.yahoo.com/quote/\", symbol, \"/history?period1=\",\n",
    "                   period1, \"&period2=\", period2,\n",
    "                   \"&interval=1d&filter=history&frequency=1d&includeAdjustedClose=true&guccounter=2\")\n",
    "  \n",
    "  # navigates to the link and scrolls down to load the whole table\n",
    "  remDr$navigate(link)\n",
    "  webElem <- remDr$findElement(\"css\", \"body\")\n",
    "  \n",
    "  for (j in 1:6) {\n",
    "    j = j+1\n",
    "    Sys.sleep(3)\n",
    "    webElem$sendKeysToElement(list(key = \"end\"))\n",
    "  }\n",
    "\n",
    "  # reads the table and assigns it to a variable\n",
    "  doc <- htmlParse(remDr$getPageSource()[[1]])\n",
    "  temptable = assign(paste0(\"table\", symbol), readHTMLTable(doc, as.data.frame = TRUE)[[1]])\n",
    "  \n",
    "  #print final message\n",
    "  if (symbol == symbols[length(symbols)]) {\n",
    "    print(\"Scraping done!\")\n",
    "  }\n",
    "  table[[symbol]] = temptable\n",
    "}"
   ]
  },
  {
   "cell_type": "markdown",
   "id": "bf2bc68d-8ce8-433b-a927-3fbdc6e70a1b",
   "metadata": {},
   "source": [
    "And now we can left join all of the tables from the different securities.\n",
    "\n",
    "Note! Left joining the tables means in this case, that the dates we got from scraping the data for the first security (i.e. the first item in the symbols-list) are used to join the data from the different tables. If we wanted to scrape data for securities in different markets, some important data might be lost."
   ]
  },
  {
   "cell_type": "code",
   "execution_count": 8,
   "id": "3009dd5b-3520-495f-8d6a-0a5d6d8c73be",
   "metadata": {},
   "outputs": [
    {
     "data": {
      "text/html": [
       "<table>\n",
       "<thead><tr><th scope=col>Date</th><th scope=col>Open.x</th><th scope=col>High.x</th><th scope=col>Low.x</th><th scope=col>Close*.x</th><th scope=col>Adj Close**.x</th><th scope=col>Volume.x</th><th scope=col>Open.y</th><th scope=col>High.y</th><th scope=col>Low.y</th><th scope=col>Close*.y</th><th scope=col>Adj Close**.y</th><th scope=col>Volume.y</th><th scope=col>Open</th><th scope=col>High</th><th scope=col>Low</th><th scope=col>Close*</th><th scope=col>Adj Close**</th><th scope=col>Volume</th></tr></thead>\n",
       "<tbody>\n",
       "\t<tr><td>Oct 28, 2021</td><td>670.95      </td><td>676.80      </td><td>668.03      </td><td>674.05      </td><td>674.05      </td><td>2,798,729   </td><td>273.62      </td><td>293.32      </td><td>273.14      </td><td>288.95      </td><td>288.95      </td><td>3,374,820   </td><td>147.79      </td><td>148.33      </td><td>146.84      </td><td>147.24      </td><td>147.24      </td><td>17,496,320  </td></tr>\n",
       "\t<tr><td>Oct 27, 2021</td><td>669.00      </td><td>671.41      </td><td>661.85      </td><td>662.92      </td><td>662.92      </td><td>2,276,900   </td><td>269.91      </td><td>278.00      </td><td>260.53      </td><td>273.13      </td><td>273.13      </td><td>3,958,200   </td><td>146.40      </td><td>148.18      </td><td>145.93      </td><td>147.74      </td><td>147.74      </td><td>22,092,300  </td></tr>\n",
       "\t<tr><td>Oct 26, 2021</td><td>673.76      </td><td>676.49      </td><td>662.77      </td><td>668.52      </td><td>668.52      </td><td>2,904,800   </td><td>260.34      </td><td>263.69      </td><td>251.57      </td><td>252.20      </td><td>252.20      </td><td>1,672,600   </td><td>144.62      </td><td>145.10      </td><td>143.74      </td><td>145.10      </td><td>145.10      </td><td>13,671,000  </td></tr>\n",
       "\t<tr><td>Oct 25, 2021</td><td>663.74      </td><td>675.88      </td><td>657.07      </td><td>671.66      </td><td>671.66      </td><td>3,833,500   </td><td>252.06      </td><td>259.19      </td><td>250.58      </td><td>257.89      </td><td>257.89      </td><td>1,009,600   </td><td>143.67      </td><td>144.30      </td><td>143.63      </td><td>143.91      </td><td>143.91      </td><td>8,137,900   </td></tr>\n",
       "\t<tr><td>Oct 22, 2021</td><td>651.81      </td><td>665.46      </td><td>651.81      </td><td>664.78      </td><td>664.78      </td><td>6,179,700   </td><td>251.50      </td><td>254.37      </td><td>249.02      </td><td>252.96      </td><td>252.96      </td><td>988,000     </td><td>143.45      </td><td>144.40      </td><td>143.21      </td><td>144.13      </td><td>144.13      </td><td>13,738,700  </td></tr>\n",
       "\t<tr><td>Oct 21, 2021</td><td>628.89      </td><td>654.01      </td><td>628.65      </td><td>653.16      </td><td>653.16      </td><td>8,437,100   </td><td>251.09      </td><td>263.04      </td><td>250.84      </td><td>255.00      </td><td>255.00      </td><td>1,093,500   </td><td>143.00      </td><td>143.15      </td><td>142.23      </td><td>142.56      </td><td>142.56      </td><td>13,660,000  </td></tr>\n",
       "</tbody>\n",
       "</table>\n"
      ],
      "text/latex": [
       "\\begin{tabular}{r|lllllllllllllllllll}\n",
       " Date & Open.x & High.x & Low.x & Close*.x & Adj Close**.x & Volume.x & Open.y & High.y & Low.y & Close*.y & Adj Close**.y & Volume.y & Open & High & Low & Close* & Adj Close** & Volume\\\\\n",
       "\\hline\n",
       "\t Oct 28, 2021 & 670.95       & 676.80       & 668.03       & 674.05       & 674.05       & 2,798,729    & 273.62       & 293.32       & 273.14       & 288.95       & 288.95       & 3,374,820    & 147.79       & 148.33       & 146.84       & 147.24       & 147.24       & 17,496,320  \\\\\n",
       "\t Oct 27, 2021 & 669.00       & 671.41       & 661.85       & 662.92       & 662.92       & 2,276,900    & 269.91       & 278.00       & 260.53       & 273.13       & 273.13       & 3,958,200    & 146.40       & 148.18       & 145.93       & 147.74       & 147.74       & 22,092,300  \\\\\n",
       "\t Oct 26, 2021 & 673.76       & 676.49       & 662.77       & 668.52       & 668.52       & 2,904,800    & 260.34       & 263.69       & 251.57       & 252.20       & 252.20       & 1,672,600    & 144.62       & 145.10       & 143.74       & 145.10       & 145.10       & 13,671,000  \\\\\n",
       "\t Oct 25, 2021 & 663.74       & 675.88       & 657.07       & 671.66       & 671.66       & 3,833,500    & 252.06       & 259.19       & 250.58       & 257.89       & 257.89       & 1,009,600    & 143.67       & 144.30       & 143.63       & 143.91       & 143.91       & 8,137,900   \\\\\n",
       "\t Oct 22, 2021 & 651.81       & 665.46       & 651.81       & 664.78       & 664.78       & 6,179,700    & 251.50       & 254.37       & 249.02       & 252.96       & 252.96       & 988,000      & 143.45       & 144.40       & 143.21       & 144.13       & 144.13       & 13,738,700  \\\\\n",
       "\t Oct 21, 2021 & 628.89       & 654.01       & 628.65       & 653.16       & 653.16       & 8,437,100    & 251.09       & 263.04       & 250.84       & 255.00       & 255.00       & 1,093,500    & 143.00       & 143.15       & 142.23       & 142.56       & 142.56       & 13,660,000  \\\\\n",
       "\\end{tabular}\n"
      ],
      "text/markdown": [
       "\n",
       "| Date | Open.x | High.x | Low.x | Close*.x | Adj Close**.x | Volume.x | Open.y | High.y | Low.y | Close*.y | Adj Close**.y | Volume.y | Open | High | Low | Close* | Adj Close** | Volume |\n",
       "|---|---|---|---|---|---|---|---|---|---|---|---|---|---|---|---|---|---|---|\n",
       "| Oct 28, 2021 | 670.95       | 676.80       | 668.03       | 674.05       | 674.05       | 2,798,729    | 273.62       | 293.32       | 273.14       | 288.95       | 288.95       | 3,374,820    | 147.79       | 148.33       | 146.84       | 147.24       | 147.24       | 17,496,320   |\n",
       "| Oct 27, 2021 | 669.00       | 671.41       | 661.85       | 662.92       | 662.92       | 2,276,900    | 269.91       | 278.00       | 260.53       | 273.13       | 273.13       | 3,958,200    | 146.40       | 148.18       | 145.93       | 147.74       | 147.74       | 22,092,300   |\n",
       "| Oct 26, 2021 | 673.76       | 676.49       | 662.77       | 668.52       | 668.52       | 2,904,800    | 260.34       | 263.69       | 251.57       | 252.20       | 252.20       | 1,672,600    | 144.62       | 145.10       | 143.74       | 145.10       | 145.10       | 13,671,000   |\n",
       "| Oct 25, 2021 | 663.74       | 675.88       | 657.07       | 671.66       | 671.66       | 3,833,500    | 252.06       | 259.19       | 250.58       | 257.89       | 257.89       | 1,009,600    | 143.67       | 144.30       | 143.63       | 143.91       | 143.91       | 8,137,900    |\n",
       "| Oct 22, 2021 | 651.81       | 665.46       | 651.81       | 664.78       | 664.78       | 6,179,700    | 251.50       | 254.37       | 249.02       | 252.96       | 252.96       | 988,000      | 143.45       | 144.40       | 143.21       | 144.13       | 144.13       | 13,738,700   |\n",
       "| Oct 21, 2021 | 628.89       | 654.01       | 628.65       | 653.16       | 653.16       | 8,437,100    | 251.09       | 263.04       | 250.84       | 255.00       | 255.00       | 1,093,500    | 143.00       | 143.15       | 142.23       | 142.56       | 142.56       | 13,660,000   |\n",
       "\n"
      ],
      "text/plain": [
       "  Date         Open.x High.x Low.x  Close*.x Adj Close**.x Volume.x  Open.y\n",
       "1 Oct 28, 2021 670.95 676.80 668.03 674.05   674.05        2,798,729 273.62\n",
       "2 Oct 27, 2021 669.00 671.41 661.85 662.92   662.92        2,276,900 269.91\n",
       "3 Oct 26, 2021 673.76 676.49 662.77 668.52   668.52        2,904,800 260.34\n",
       "4 Oct 25, 2021 663.74 675.88 657.07 671.66   671.66        3,833,500 252.06\n",
       "5 Oct 22, 2021 651.81 665.46 651.81 664.78   664.78        6,179,700 251.50\n",
       "6 Oct 21, 2021 628.89 654.01 628.65 653.16   653.16        8,437,100 251.09\n",
       "  High.y Low.y  Close*.y Adj Close**.y Volume.y  Open   High   Low    Close*\n",
       "1 293.32 273.14 288.95   288.95        3,374,820 147.79 148.33 146.84 147.24\n",
       "2 278.00 260.53 273.13   273.13        3,958,200 146.40 148.18 145.93 147.74\n",
       "3 263.69 251.57 252.20   252.20        1,672,600 144.62 145.10 143.74 145.10\n",
       "4 259.19 250.58 257.89   257.89        1,009,600 143.67 144.30 143.63 143.91\n",
       "5 254.37 249.02 252.96   252.96        988,000   143.45 144.40 143.21 144.13\n",
       "6 263.04 250.84 255.00   255.00        1,093,500 143.00 143.15 142.23 142.56\n",
       "  Adj Close** Volume    \n",
       "1 147.24      17,496,320\n",
       "2 147.74      22,092,300\n",
       "3 145.10      13,671,000\n",
       "4 143.91      8,137,900 \n",
       "5 144.13      13,738,700\n",
       "6 142.56      13,660,000"
      ]
     },
     "metadata": {},
     "output_type": "display_data"
    }
   ],
   "source": [
    "final_table = table %>%\n",
    "  reduce(left_join, by = \"Date\")\n",
    "head(final_table)"
   ]
  },
  {
   "cell_type": "markdown",
   "id": "8b12b11d-bd02-44da-89e3-9b2202f436c5",
   "metadata": {},
   "source": [
    "# Cleaning up the data\n",
    "\n",
    "Now we can do some simple data manipulation to make the data more tidy."
   ]
  },
  {
   "cell_type": "code",
   "execution_count": 9,
   "id": "67da83fc-8f4b-4496-af55-4eb80e134a0b",
   "metadata": {},
   "outputs": [
    {
     "name": "stderr",
     "output_type": "stream",
     "text": [
      "Note: Using an external vector in selections is ambiguous.\n",
      "\u001b[34mi\u001b[39m Use `all_of(column_name)` instead of `column_name` to silence this message.\n",
      "\u001b[34mi\u001b[39m See <https://tidyselect.r-lib.org/reference/faq-external-vector.html>.\n",
      "\u001b[90mThis message is displayed once per session.\u001b[39m\n"
     ]
    }
   ],
   "source": [
    "# choose only closing prices and rename columns based on the symbols\n",
    "final_table = final_table[c(1, seq(5, ncol(final_table), 6))]\n",
    "for (i in 1:length(symbols)) {\n",
    "  symbol = symbols[[i]]\n",
    "  column_name = colnames(final_table[i+1])\n",
    "  final_table = final_table %>%\n",
    "    rename(!!symbol := column_name)\n",
    "  i=i+1\n",
    "}\n",
    "  \n",
    "# format Date as date\n",
    "final_table$Date = as.Date(final_table$Date, \"%b %d, %Y\")\n",
    "\n",
    "# sort data with Date\n",
    "final_table = final_table[order(final_table$Date, decreasing = FALSE),]\n",
    "\n",
    "# replace \"-\" with NA, format columns and replace NA's with previous value\n",
    "final_table = final_table %>% mutate_if(is.character, ~na_if(.,\"-\"))\n",
    "final_table = final_table %>% mutate_if(is.character, ~as.numeric(sub(\",\", \"\", ., fixed = TRUE)))\n",
    "final_table = na.locf(final_table)\n",
    "final_table = distinct(final_table)"
   ]
  },
  {
   "cell_type": "markdown",
   "id": "182eee8a-1c6c-49e8-a999-47cfedbb3d57",
   "metadata": {},
   "source": [
    "Now let us check whether the table looks fine."
   ]
  },
  {
   "cell_type": "code",
   "execution_count": 10,
   "id": "cec1c1ae-343a-4622-966c-fe76e9546925",
   "metadata": {},
   "outputs": [
    {
     "data": {
      "text/html": [
       "<table>\n",
       "<thead><tr><th scope=col>Date</th><th scope=col>NFLX</th><th scope=col>SPOT</th><th scope=col>TLT</th></tr></thead>\n",
       "<tbody>\n",
       "\t<tr><td>2021-08-31</td><td>569.19    </td><td>234.34    </td><td>148.83    </td></tr>\n",
       "\t<tr><td>2021-09-01</td><td>582.07    </td><td>238.38    </td><td>148.89    </td></tr>\n",
       "\t<tr><td>2021-09-02</td><td>588.55    </td><td>254.03    </td><td>149.54    </td></tr>\n",
       "\t<tr><td>2021-09-03</td><td>590.53    </td><td>249.04    </td><td>148.18    </td></tr>\n",
       "\t<tr><td>2021-09-07</td><td>606.71    </td><td>254.72    </td><td>146.93    </td></tr>\n",
       "\t<tr><td>2021-09-08</td><td>606.05    </td><td>249.68    </td><td>147.93    </td></tr>\n",
       "\t<tr><td>2021-09-09</td><td>597.54    </td><td>246.01    </td><td>149.72    </td></tr>\n",
       "\t<tr><td>2021-09-10</td><td>598.72    </td><td>247.76    </td><td>148.40    </td></tr>\n",
       "\t<tr><td>2021-09-13</td><td>589.29    </td><td>244.22    </td><td>149.30    </td></tr>\n",
       "\t<tr><td>2021-09-14</td><td>577.76    </td><td>243.81    </td><td>151.11    </td></tr>\n",
       "</tbody>\n",
       "</table>\n"
      ],
      "text/latex": [
       "\\begin{tabular}{r|llll}\n",
       " Date & NFLX & SPOT & TLT\\\\\n",
       "\\hline\n",
       "\t 2021-08-31 & 569.19     & 234.34     & 148.83    \\\\\n",
       "\t 2021-09-01 & 582.07     & 238.38     & 148.89    \\\\\n",
       "\t 2021-09-02 & 588.55     & 254.03     & 149.54    \\\\\n",
       "\t 2021-09-03 & 590.53     & 249.04     & 148.18    \\\\\n",
       "\t 2021-09-07 & 606.71     & 254.72     & 146.93    \\\\\n",
       "\t 2021-09-08 & 606.05     & 249.68     & 147.93    \\\\\n",
       "\t 2021-09-09 & 597.54     & 246.01     & 149.72    \\\\\n",
       "\t 2021-09-10 & 598.72     & 247.76     & 148.40    \\\\\n",
       "\t 2021-09-13 & 589.29     & 244.22     & 149.30    \\\\\n",
       "\t 2021-09-14 & 577.76     & 243.81     & 151.11    \\\\\n",
       "\\end{tabular}\n"
      ],
      "text/markdown": [
       "\n",
       "| Date | NFLX | SPOT | TLT |\n",
       "|---|---|---|---|\n",
       "| 2021-08-31 | 569.19     | 234.34     | 148.83     |\n",
       "| 2021-09-01 | 582.07     | 238.38     | 148.89     |\n",
       "| 2021-09-02 | 588.55     | 254.03     | 149.54     |\n",
       "| 2021-09-03 | 590.53     | 249.04     | 148.18     |\n",
       "| 2021-09-07 | 606.71     | 254.72     | 146.93     |\n",
       "| 2021-09-08 | 606.05     | 249.68     | 147.93     |\n",
       "| 2021-09-09 | 597.54     | 246.01     | 149.72     |\n",
       "| 2021-09-10 | 598.72     | 247.76     | 148.40     |\n",
       "| 2021-09-13 | 589.29     | 244.22     | 149.30     |\n",
       "| 2021-09-14 | 577.76     | 243.81     | 151.11     |\n",
       "\n"
      ],
      "text/plain": [
       "   Date       NFLX   SPOT   TLT   \n",
       "1  2021-08-31 569.19 234.34 148.83\n",
       "2  2021-09-01 582.07 238.38 148.89\n",
       "3  2021-09-02 588.55 254.03 149.54\n",
       "4  2021-09-03 590.53 249.04 148.18\n",
       "5  2021-09-07 606.71 254.72 146.93\n",
       "6  2021-09-08 606.05 249.68 147.93\n",
       "7  2021-09-09 597.54 246.01 149.72\n",
       "8  2021-09-10 598.72 247.76 148.40\n",
       "9  2021-09-13 589.29 244.22 149.30\n",
       "10 2021-09-14 577.76 243.81 151.11"
      ]
     },
     "metadata": {},
     "output_type": "display_data"
    }
   ],
   "source": [
    "head(final_table, 10)"
   ]
  },
  {
   "cell_type": "markdown",
   "id": "e867ab60-82f1-4c6c-96bd-06d44225459e",
   "metadata": {},
   "source": [
    "## Exporting the data into an Excel-file\n",
    "\n",
    "Finally we can export it into an xlsx-file."
   ]
  },
  {
   "cell_type": "code",
   "execution_count": 11,
   "id": "32475ef2-9d25-46bb-9bbc-7b83c1f439e0",
   "metadata": {},
   "outputs": [],
   "source": [
    "write.xlsx(final_table, file = path, col.names = TRUE, row.names = FALSE)"
   ]
  }
 ],
 "metadata": {
  "kernelspec": {
   "display_name": "R",
   "language": "R",
   "name": "ir"
  },
  "language_info": {
   "codemirror_mode": "r",
   "file_extension": ".r",
   "mimetype": "text/x-r-source",
   "name": "R",
   "pygments_lexer": "r",
   "version": "3.6.1"
  }
 },
 "nbformat": 4,
 "nbformat_minor": 5
}
